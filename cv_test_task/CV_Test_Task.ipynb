{
  "nbformat": 4,
  "nbformat_minor": 0,
  "metadata": {
    "accelerator": "GPU",
    "colab": {
      "name": "Junior CV Test Task.ipynb",
      "provenance": [],
      "collapsed_sections": [],
      "toc_visible": true,
      "authorship_tag": "ABX9TyMV+DJv/K2A+SDcI/wKTXCu"
    },
    "kernelspec": {
      "display_name": "Python 3",
      "name": "python3"
    }
  },
  "cells": [
    {
      "cell_type": "markdown",
      "metadata": {
        "id": "D3aGzNeBNNNo"
      },
      "source": [
        "# **Классификация наличия святого Георгия на изображении.**\n",
        "\n",
        "## **Задание.**\n",
        "\n",
        "Создать модель по классификации изображений, которая будет определять наличие святого Георгия на нем. В нашем распоряжении есть два csv файла со ссылками на изображения со святым Георгием (georges.csv) и без него (non_georges.csv).\n",
        "\n",
        "## 1. Импорт библиотек."
      ]
    },
    {
      "cell_type": "code",
      "metadata": {
        "id": "mvdw8InolBnn"
      },
      "source": [
        "import pandas as pd\n",
        "import numpy as np\n",
        "from PIL import Image\n",
        "import matplotlib.pyplot as plt\n",
        "\n",
        "import zipfile\n",
        "import os\n",
        "\n",
        "from sklearn.model_selection import train_test_split\n",
        "from sklearn.metrics import accuracy_score\n",
        "\n",
        "from tensorflow.keras.applications.efficientnet import EfficientNetB3\n",
        "from tensorflow.keras.preprocessing import image as image_prep\n",
        "from tensorflow.keras.preprocessing.image import ImageDataGenerator\n",
        "from tensorflow.keras.layers import GlobalAveragePooling2D, Dense\n",
        "from tensorflow.keras.models import Sequential, load_model\n",
        "from keras.callbacks import ModelCheckpoint, ReduceLROnPlateau\n",
        "\n",
        "import albumentations as A\n",
        "\n",
        "IMG_SIZE = 256\n",
        "SEED = 404\n",
        "BATCH_SIZE = 32\n",
        "\n",
        "# при использовании локальных файлов установить USE_LOCAL_FILES = True \n",
        "# прописать путь к директории с csv-файлами и папкой с изображениями\n",
        "USE_LOCAL_FILES = False\n",
        "local_path = './datasets'"
      ],
      "execution_count": 1,
      "outputs": []
    },
    {
      "cell_type": "markdown",
      "metadata": {
        "id": "HOb2WVYzOIaQ"
      },
      "source": [
        "## 2. Импорт файлов и предобработка.\n",
        "\n",
        "Изображения вместе с csv-файлами были загружены на диск Google Drive в архиве images. Подключаем Google Drive, скачиваем изображения и распаковываем их для дальнейшего использования."
      ]
    },
    {
      "cell_type": "code",
      "metadata": {
        "colab": {
          "base_uri": "https://localhost:8080/"
        },
        "id": "9JX5DXX-XZbi",
        "outputId": "cb0668f1-c9f8-4ece-c29d-0e90cbc35410"
      },
      "source": [
        "if USE_LOCAL_FILES:\n",
        "    path = local_path\n",
        "else:\n",
        "    from google.colab import drive\n",
        "\n",
        "    drive.mount('/content/gdrive')\n",
        "    zip_file = '/content/gdrive/MyDrive/images.zip'\n",
        "    z = zipfile.ZipFile(zip_file, 'r')\n",
        "    z.extractall()\n",
        "    path = '/content/'\n",
        "\n",
        "print(os.listdir())"
      ],
      "execution_count": 2,
      "outputs": [
        {
          "output_type": "stream",
          "text": [
            "Mounted at /content/gdrive\n",
            "['.config', 'georges.csv', 'gdrive', 'non_georges.csv', 'images', 'sample_data']\n"
          ],
          "name": "stdout"
        }
      ]
    },
    {
      "cell_type": "markdown",
      "metadata": {
        "id": "Ss14oh7kOfxy"
      },
      "source": [
        "При обучении моделей будем использовать метод `flow_from_dataframe`, поэтому подготовим датафрейм с именами изображений и соотвествующими метками:\n",
        "\n",
        "1. Читаем каждый csv-файл.\n",
        "2. Добавляем метки 1 или 0 в зависимости от файла.\n",
        "3. Удаляем дубликаты изображений."
      ]
    },
    {
      "cell_type": "code",
      "metadata": {
        "id": "CvcrnSr7lDSs"
      },
      "source": [
        "georges = pd.read_csv(path+'georges.csv', names=['image_id'])\n",
        "georges['image_id'] = georges['image_id'].apply(lambda x: os.path.basename(x))\n",
        "georges = georges.drop_duplicates()\n",
        "georges['label'] = '1'\n",
        "\n",
        "non_georges = pd.read_csv(path+'non_georges.csv', names=['image_id'])\n",
        "non_georges['image_id'] = non_georges['image_id'].apply(lambda x: os.path.basename(x))\n",
        "non_georges = non_georges.drop_duplicates()\n",
        "non_georges['label'] = '0'"
      ],
      "execution_count": 3,
      "outputs": []
    },
    {
      "cell_type": "markdown",
      "metadata": {
        "id": "-Ufeq1u0PDJp"
      },
      "source": [
        "Ссылка на часть изображений присутствуют в обоих csv-файлах. Проанализируем эти файлы."
      ]
    },
    {
      "cell_type": "code",
      "metadata": {
        "id": "NkE3_971_A3a"
      },
      "source": [
        "ambiguous = pd.Series(list(set(georges.image_id) & set(non_georges.image_id)))\n",
        "\n",
        "# раскомментировать код для вывода дублирующихся изображений\n",
        "\n",
        "#fig = plt.figure(figsize=(18, 18))\n",
        "#\n",
        "#for i in range(len(ambiguous)):\n",
        "#    image = Image.open(path + '/' + ambiguous.iloc[i])\n",
        "#    image = np.array(image)\n",
        "#    ax = fig.add_subplot(4, 4, i+1, xticks=[], yticks=[])\n",
        "#    ax.imshow(image)\n",
        "#    ax.set_title(f\"Изображение {i+1}\")"
      ],
      "execution_count": 4,
      "outputs": []
    },
    {
      "cell_type": "markdown",
      "metadata": {
        "id": "ZKS223f4aczh"
      },
      "source": [
        "Судя по всему, изображения с двумя метками могут относиться и к метке '1', и к метке '0'. Так как таких изображений всего 11, удалим их из выборки."
      ]
    },
    {
      "cell_type": "code",
      "metadata": {
        "colab": {
          "base_uri": "https://localhost:8080/",
          "height": 159
        },
        "id": "maucYx5m-9_c",
        "outputId": "e23ef8b7-0d0d-489f-b2c9-1e8d91dca0e0"
      },
      "source": [
        "data = pd.concat([georges, non_georges]).drop_duplicates(subset='image_id', keep=False).reset_index(drop=True)\n",
        "display(data.head(3))\n",
        "print('Размер датафрейма: {}'.format(data.shape))"
      ],
      "execution_count": 5,
      "outputs": [
        {
          "output_type": "display_data",
          "data": {
            "text/html": [
              "<div>\n",
              "<style scoped>\n",
              "    .dataframe tbody tr th:only-of-type {\n",
              "        vertical-align: middle;\n",
              "    }\n",
              "\n",
              "    .dataframe tbody tr th {\n",
              "        vertical-align: top;\n",
              "    }\n",
              "\n",
              "    .dataframe thead th {\n",
              "        text-align: right;\n",
              "    }\n",
              "</style>\n",
              "<table border=\"1\" class=\"dataframe\">\n",
              "  <thead>\n",
              "    <tr style=\"text-align: right;\">\n",
              "      <th></th>\n",
              "      <th>image_id</th>\n",
              "      <th>label</th>\n",
              "    </tr>\n",
              "  </thead>\n",
              "  <tbody>\n",
              "    <tr>\n",
              "      <th>0</th>\n",
              "      <td>170d5b93d80d247be60f22ca1216bef7.jpg</td>\n",
              "      <td>1</td>\n",
              "    </tr>\n",
              "    <tr>\n",
              "      <th>1</th>\n",
              "      <td>47b99a2ddcde2cf9e62b4faeec2fdf20.jpg</td>\n",
              "      <td>1</td>\n",
              "    </tr>\n",
              "    <tr>\n",
              "      <th>2</th>\n",
              "      <td>90e890f054b920308987c140125c9d19.jpg</td>\n",
              "      <td>1</td>\n",
              "    </tr>\n",
              "  </tbody>\n",
              "</table>\n",
              "</div>"
            ],
            "text/plain": [
              "                               image_id label\n",
              "0  170d5b93d80d247be60f22ca1216bef7.jpg     1\n",
              "1  47b99a2ddcde2cf9e62b4faeec2fdf20.jpg     1\n",
              "2  90e890f054b920308987c140125c9d19.jpg     1"
            ]
          },
          "metadata": {
            "tags": []
          }
        },
        {
          "output_type": "stream",
          "text": [
            "Размер датафрейма: (5678, 2)\n"
          ],
          "name": "stdout"
        }
      ]
    },
    {
      "cell_type": "markdown",
      "metadata": {
        "id": "DFp9t0dra3uD"
      },
      "source": [
        "## 3. Подготовка к обучению модели.\n",
        "\n",
        "Разобьем изображения на обучающую и тестовую выборки в соотношении 9 к 1."
      ]
    },
    {
      "cell_type": "code",
      "metadata": {
        "id": "IMmWRNTGw_FR"
      },
      "source": [
        "train, test = train_test_split(data, test_size=0.1, stratify=data['label'], random_state=SEED)"
      ],
      "execution_count": 6,
      "outputs": []
    },
    {
      "cell_type": "markdown",
      "metadata": {
        "id": "KBo-AkFjbD-Q"
      },
      "source": [
        "Для передачи изображений на обучение батчами создадим два объекта `ImageDataGenerator`. В обучающий генератор также добавим аугментации с использованием библиотеки `albumentations`: случайное изменение яркости и контраста, отражение по вертикали и смещения/повороты изображения."
      ]
    },
    {
      "cell_type": "code",
      "metadata": {
        "colab": {
          "base_uri": "https://localhost:8080/"
        },
        "id": "7YJ4g6yrxcsN",
        "outputId": "4b098987-2ad7-431a-f7cf-d745e84a1f4e"
      },
      "source": [
        "def transform(image):\n",
        "    aug = A.Compose([\n",
        "        A.RandomBrightnessContrast(),\n",
        "        A.HorizontalFlip(),\n",
        "        A.ShiftScaleRotate(rotate_limit=20),\n",
        "    ])\n",
        "    return aug(image=image)['image']\n",
        "\n",
        "train_datagen = ImageDataGenerator(validation_split=0.2, \n",
        "                                   preprocessing_function=transform)\n",
        "\n",
        "train_datagen_flow = train_datagen.flow_from_dataframe(\n",
        "dataframe=train,\n",
        "validate_filenames=False,\n",
        "directory=path+'images',\n",
        "x_col='image_id',\n",
        "y_col='label',\n",
        "target_size=(IMG_SIZE, IMG_SIZE),\n",
        "batch_size=BATCH_SIZE,\n",
        "class_mode='binary',\n",
        "subset='training',\n",
        "seed=SEED)\n",
        "\n",
        "val_datagen = ImageDataGenerator(validation_split=0.2)\n",
        "\n",
        "val_datagen_flow = val_datagen.flow_from_dataframe(\n",
        "dataframe=train,\n",
        "validate_filenames=False,\n",
        "directory=path+'images',\n",
        "x_col='image_id',\n",
        "y_col='label',\n",
        "target_size=(IMG_SIZE, IMG_SIZE),\n",
        "batch_size=BATCH_SIZE,\n",
        "class_mode='binary',\n",
        "subset='validation',\n",
        "seed=SEED)"
      ],
      "execution_count": 7,
      "outputs": [
        {
          "output_type": "stream",
          "text": [
            "Found 4088 non-validated image filenames belonging to 2 classes.\n",
            "Found 1022 non-validated image filenames belonging to 2 classes.\n"
          ],
          "name": "stdout"
        }
      ]
    },
    {
      "cell_type": "markdown",
      "metadata": {
        "id": "dRchH8wMbmgi"
      },
      "source": [
        "В качестве модели используем архитектуру `EfficientNetB3`, предобученную на наборе изображений `'imagenet'`. Выходной слой будет состоять из одного нейрона и сигмоидной активацией."
      ]
    },
    {
      "cell_type": "code",
      "metadata": {
        "colab": {
          "base_uri": "https://localhost:8080/"
        },
        "id": "9AVLWIbECU3K",
        "outputId": "b3067063-caf0-45b3-d74e-2b9b21c365e5"
      },
      "source": [
        "backbone = EfficientNetB3(include_top=False, \n",
        "                          weights='imagenet',\n",
        "                          input_shape=(IMG_SIZE, IMG_SIZE, 3))\n",
        "\n",
        "model = Sequential()\n",
        "model.add(backbone)\n",
        "model.add(GlobalAveragePooling2D())\n",
        "model.add(Dense(units=1, activation='sigmoid'))\n",
        "\n",
        "model.summary()"
      ],
      "execution_count": 8,
      "outputs": [
        {
          "output_type": "stream",
          "text": [
            "Downloading data from https://storage.googleapis.com/keras-applications/efficientnetb3_notop.h5\n",
            "43941888/43941136 [==============================] - 0s 0us/step\n",
            "Model: \"sequential\"\n",
            "_________________________________________________________________\n",
            "Layer (type)                 Output Shape              Param #   \n",
            "=================================================================\n",
            "efficientnetb3 (Functional)  (None, 8, 8, 1536)        10783535  \n",
            "_________________________________________________________________\n",
            "global_average_pooling2d (Gl (None, 1536)              0         \n",
            "_________________________________________________________________\n",
            "dense (Dense)                (None, 1)                 1537      \n",
            "=================================================================\n",
            "Total params: 10,785,072\n",
            "Trainable params: 10,697,769\n",
            "Non-trainable params: 87,303\n",
            "_________________________________________________________________\n"
          ],
          "name": "stdout"
        }
      ]
    },
    {
      "cell_type": "markdown",
      "metadata": {
        "id": "5kVDHF7Bb-2Q"
      },
      "source": [
        "Компилируем модель. В качестве оптимизатора выбираем `Adam`, метрика - `accuracy`.\n",
        "\n",
        "Также создадим callbacks: первый будет сохранять модель при достижении лучшей метрики на каждой эпохе, второй будет уменьшать скорость обучения при выходе функции потерь на \"плато\"."
      ]
    },
    {
      "cell_type": "code",
      "metadata": {
        "id": "in2K31SAE2z-"
      },
      "source": [
        "model.compile(optimizer='adam', loss='binary_crossentropy', metrics=['accuracy'])"
      ],
      "execution_count": 9,
      "outputs": []
    },
    {
      "cell_type": "code",
      "metadata": {
        "id": "dkqRbNhG2kI6"
      },
      "source": [
        "checkpoint = ModelCheckpoint(filepath='./best_model.h5', monitor='val_loss', save_best_only=True, verbose=1)\n",
        "\n",
        "reduce_lr = ReduceLROnPlateau( \n",
        "    monitor='val_loss',\n",
        "    factor=0.2,\n",
        "    patience=2,\n",
        "    min_lr=1e-6,\n",
        "    mode='min',\n",
        "    verbose=1\n",
        ")\n",
        "\n",
        "callbacks = [checkpoint, reduce_lr]"
      ],
      "execution_count": 10,
      "outputs": []
    },
    {
      "cell_type": "code",
      "metadata": {
        "id": "EeO255KfE9n3"
      },
      "source": [
        "train_steps = np.ceil(train_datagen_flow.n/train_datagen_flow.batch_size)\n",
        "val_steps = np.ceil(val_datagen_flow.n/val_datagen_flow.batch_size)"
      ],
      "execution_count": 11,
      "outputs": []
    },
    {
      "cell_type": "markdown",
      "metadata": {
        "id": "As_NkBBwchcj"
      },
      "source": [
        "## 4. Обучение модели.\n",
        "\n",
        "Обучим модель на 20 эпохах."
      ]
    },
    {
      "cell_type": "code",
      "metadata": {
        "colab": {
          "base_uri": "https://localhost:8080/"
        },
        "id": "UnfHxY6sE9R9",
        "outputId": "431f28f8-3fc1-40e0-de1a-d62b0f3628ff"
      },
      "source": [
        "history = model.fit(\n",
        "    train_datagen_flow,\n",
        "    epochs = 20,\n",
        "    steps_per_epoch = train_steps,\n",
        "    validation_data = val_datagen_flow,\n",
        "    validation_steps = val_steps,\n",
        "    callbacks = callbacks)"
      ],
      "execution_count": 12,
      "outputs": [
        {
          "output_type": "stream",
          "text": [
            "Epoch 1/20\n",
            "128/128 [==============================] - 246s 2s/step - loss: 0.6881 - accuracy: 0.6250 - val_loss: 0.6352 - val_accuracy: 0.7945\n",
            "\n",
            "Epoch 00001: val_loss improved from inf to 0.63518, saving model to ./best_model.h5\n",
            "Epoch 2/20\n",
            "128/128 [==============================] - 191s 1s/step - loss: 0.5470 - accuracy: 0.6951 - val_loss: 0.4022 - val_accuracy: 0.8268\n",
            "\n",
            "Epoch 00002: val_loss improved from 0.63518 to 0.40221, saving model to ./best_model.h5\n",
            "Epoch 3/20\n",
            "128/128 [==============================] - 192s 1s/step - loss: 0.4915 - accuracy: 0.7300 - val_loss: 0.3016 - val_accuracy: 0.8718\n",
            "\n",
            "Epoch 00003: val_loss improved from 0.40221 to 0.30159, saving model to ./best_model.h5\n",
            "Epoch 4/20\n",
            "128/128 [==============================] - 192s 1s/step - loss: 0.4934 - accuracy: 0.7346 - val_loss: 0.3575 - val_accuracy: 0.8581\n",
            "\n",
            "Epoch 00004: val_loss did not improve from 0.30159\n",
            "Epoch 5/20\n",
            "128/128 [==============================] - 192s 2s/step - loss: 0.4605 - accuracy: 0.7496 - val_loss: 0.3280 - val_accuracy: 0.8513\n",
            "\n",
            "Epoch 00005: val_loss did not improve from 0.30159\n",
            "\n",
            "Epoch 00005: ReduceLROnPlateau reducing learning rate to 0.00020000000949949026.\n",
            "Epoch 6/20\n",
            "128/128 [==============================] - 193s 2s/step - loss: 0.4635 - accuracy: 0.7552 - val_loss: 0.2035 - val_accuracy: 0.9129\n",
            "\n",
            "Epoch 00006: val_loss improved from 0.30159 to 0.20346, saving model to ./best_model.h5\n",
            "Epoch 7/20\n",
            "128/128 [==============================] - 193s 2s/step - loss: 0.3943 - accuracy: 0.7917 - val_loss: 0.1968 - val_accuracy: 0.9286\n",
            "\n",
            "Epoch 00007: val_loss improved from 0.20346 to 0.19684, saving model to ./best_model.h5\n",
            "Epoch 8/20\n",
            "128/128 [==============================] - 193s 2s/step - loss: 0.3831 - accuracy: 0.7874 - val_loss: 0.2070 - val_accuracy: 0.9325\n",
            "\n",
            "Epoch 00008: val_loss did not improve from 0.19684\n",
            "Epoch 9/20\n",
            "128/128 [==============================] - 193s 2s/step - loss: 0.3826 - accuracy: 0.7935 - val_loss: 0.2197 - val_accuracy: 0.9247\n",
            "\n",
            "Epoch 00009: val_loss did not improve from 0.19684\n",
            "\n",
            "Epoch 00009: ReduceLROnPlateau reducing learning rate to 4.0000001899898055e-05.\n",
            "Epoch 10/20\n",
            "128/128 [==============================] - 192s 2s/step - loss: 0.3675 - accuracy: 0.8020 - val_loss: 0.2004 - val_accuracy: 0.9325\n",
            "\n",
            "Epoch 00010: val_loss did not improve from 0.19684\n",
            "Epoch 11/20\n",
            "128/128 [==============================] - 192s 1s/step - loss: 0.3497 - accuracy: 0.8083 - val_loss: 0.2020 - val_accuracy: 0.9354\n",
            "\n",
            "Epoch 00011: val_loss did not improve from 0.19684\n",
            "\n",
            "Epoch 00011: ReduceLROnPlateau reducing learning rate to 8.000000525498762e-06.\n",
            "Epoch 12/20\n",
            "128/128 [==============================] - 193s 2s/step - loss: 0.3419 - accuracy: 0.8154 - val_loss: 0.2014 - val_accuracy: 0.9305\n",
            "\n",
            "Epoch 00012: val_loss did not improve from 0.19684\n",
            "Epoch 13/20\n",
            "128/128 [==============================] - 191s 1s/step - loss: 0.3411 - accuracy: 0.8052 - val_loss: 0.2026 - val_accuracy: 0.9335\n",
            "\n",
            "Epoch 00013: val_loss did not improve from 0.19684\n",
            "\n",
            "Epoch 00013: ReduceLROnPlateau reducing learning rate to 1.6000001778593287e-06.\n",
            "Epoch 14/20\n",
            "128/128 [==============================] - 191s 1s/step - loss: 0.3349 - accuracy: 0.8325 - val_loss: 0.2038 - val_accuracy: 0.9325\n",
            "\n",
            "Epoch 00014: val_loss did not improve from 0.19684\n",
            "Epoch 15/20\n",
            "128/128 [==============================] - 191s 1s/step - loss: 0.3426 - accuracy: 0.8173 - val_loss: 0.2047 - val_accuracy: 0.9315\n",
            "\n",
            "Epoch 00015: val_loss did not improve from 0.19684\n",
            "\n",
            "Epoch 00015: ReduceLROnPlateau reducing learning rate to 1e-06.\n",
            "Epoch 16/20\n",
            "128/128 [==============================] - 191s 1s/step - loss: 0.3445 - accuracy: 0.8188 - val_loss: 0.2048 - val_accuracy: 0.9335\n",
            "\n",
            "Epoch 00016: val_loss did not improve from 0.19684\n",
            "Epoch 17/20\n",
            "128/128 [==============================] - 191s 1s/step - loss: 0.3357 - accuracy: 0.8165 - val_loss: 0.2040 - val_accuracy: 0.9325\n",
            "\n",
            "Epoch 00017: val_loss did not improve from 0.19684\n",
            "Epoch 18/20\n",
            "128/128 [==============================] - 191s 1s/step - loss: 0.3348 - accuracy: 0.8144 - val_loss: 0.2046 - val_accuracy: 0.9325\n",
            "\n",
            "Epoch 00018: val_loss did not improve from 0.19684\n",
            "Epoch 19/20\n",
            "128/128 [==============================] - 192s 1s/step - loss: 0.3514 - accuracy: 0.8129 - val_loss: 0.2055 - val_accuracy: 0.9335\n",
            "\n",
            "Epoch 00019: val_loss did not improve from 0.19684\n",
            "Epoch 20/20\n",
            "128/128 [==============================] - 191s 1s/step - loss: 0.3700 - accuracy: 0.7939 - val_loss: 0.2052 - val_accuracy: 0.9325\n",
            "\n",
            "Epoch 00020: val_loss did not improve from 0.19684\n"
          ],
          "name": "stdout"
        }
      ]
    },
    {
      "cell_type": "markdown",
      "metadata": {
        "id": "HDDyPF3Ec6WS"
      },
      "source": [
        "Сделаем визуализацию полученных значений точности и потерь модели по эпохам."
      ]
    },
    {
      "cell_type": "code",
      "metadata": {
        "colab": {
          "base_uri": "https://localhost:8080/",
          "height": 573
        },
        "id": "iEbdu7F7458n",
        "outputId": "1faa94d6-d2c1-4468-9f99-f9f8eedae8a8"
      },
      "source": [
        "plt.plot(history.history['accuracy'])\n",
        "plt.plot(history.history['val_accuracy'])\n",
        "plt.title('Точность модели')\n",
        "plt.ylabel('accuracy')\n",
        "plt.xlabel('epoch')\n",
        "plt.legend(['train', 'val'], loc='upper left')\n",
        "plt.show()\n",
        "\n",
        "plt.plot(history.history['loss'])\n",
        "plt.plot(history.history['val_loss'])\n",
        "plt.title('Потери модели')\n",
        "plt.ylabel('loss')\n",
        "plt.xlabel('epoch')\n",
        "plt.legend(['train', 'val'], loc='upper left')\n",
        "plt.show()"
      ],
      "execution_count": 13,
      "outputs": [
        {
          "output_type": "display_data",
          "data": {
            "image/png": "[encoded data removed]",
            "text/plain": [
              "<Figure size 432x288 with 1 Axes>"
            ]
          },
          "metadata": {
            "tags": [],
            "needs_background": "light"
          }
        },
        {
          "output_type": "display_data",
          "data": {
            "image/png": "[encoded data removed]",
            "text/plain": [
              "<Figure size 432x288 with 1 Axes>"
            ]
          },
          "metadata": {
            "tags": [],
            "needs_background": "light"
          }
        }
      ]
    },
    {
      "cell_type": "markdown",
      "metadata": {
        "id": "Hsvil5widD4M"
      },
      "source": [
        "## 5. Проверка модели.\n",
        "\n",
        "Проверим модель на тестовой выборке. Будем использовать модель с минимальной функцией потерь, сохраненую во время обучения.\n"
      ]
    },
    {
      "cell_type": "code",
      "metadata": {
        "colab": {
          "base_uri": "https://localhost:8080/"
        },
        "id": "366iQ9Ytv1mk",
        "outputId": "a56f8e30-1f90-4909-e37d-396ea49f5ace"
      },
      "source": [
        "best_model = load_model('./best_model.h5')\n",
        "\n",
        "y_pred = []\n",
        "\n",
        "for image_name in test['image_id']:\n",
        "    img = image_prep.load_img(path + 'images/' + image_name, target_size=(IMG_SIZE, IMG_SIZE))\n",
        "    x = image_prep.img_to_array(img)\n",
        "    x = np.expand_dims(x, axis=0)\n",
        "\n",
        "    prediction = best_model.predict(x)\n",
        "    prediction = (prediction > 0.5).astype(int)\n",
        "    y_pred.extend(prediction)\n",
        "\n",
        "y_true = test['label'].astype(int)\n",
        "y_pred = np.concatenate(y_pred)\n",
        "\n",
        "print('Точность на тестовой выборке: {:.4f}'.format(accuracy_score(y_true, y_pred)))"
      ],
      "execution_count": 14,
      "outputs": [
        {
          "output_type": "stream",
          "text": [
            "Точность на тестовой выборке: 0.9331\n"
          ],
          "name": "stdout"
        }
      ]
    },
    {
      "cell_type": "markdown",
      "metadata": {
        "id": "CvEVuQrEeKkt"
      },
      "source": [
        "## 6. Выводы.\n",
        "\n",
        "Мы построили модель классификации наличия святого Георгия на изображении. Для этого мы использовали архитектуру `EfficientNetB3`, для обучения также использовали аугментации от `albumentations`. \n",
        "\n",
        "1. Точность модели на обучающей выборке составила **0.7917**, а на валидационной выборке **0.9286**.\n",
        "2. Точность модели на тестовой выборке составила **0.9331**.\n",
        "3. Для дальнейшего улучшения качества модели можно попробовать проделать следующее:\n",
        "\n",
        "    3.1. Расширить имеющийся тренировочный датасет (добавить изображения).\n",
        "\n",
        "    3.2. Проанализировать случаи, в которых модель ошибается и выявить триггеры. Произвести дополнительную предобработку изображений и убрать триггеры с изображений.\n",
        "\n",
        "    3.3. Увеличить размер обрабатываемых изображений (также увеличит время обучения).\n",
        "\n",
        "    3.4. Использовать другую архитектуру сети, либо добавить скрытые слои в существующую модель.\n",
        "\n",
        "    3.5. Добавить (или использовать другие) аугментации.\n",
        "\n",
        "    3.6. Использовать мультиклассовую классификацию вместо бинарной (добавить еще один класс изображений в датасет). \n"
      ]
    }
  ]
}
